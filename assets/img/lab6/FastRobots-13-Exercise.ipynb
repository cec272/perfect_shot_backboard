{
 "cells": [
  {
   "cell_type": "markdown",
   "metadata": {},
   "source": [
    "# In-Class Exercise: Grid Localization using Bayes Filter\n",
    "<hr>"
   ]
  },
  {
   "cell_type": "code",
   "execution_count": 1,
   "metadata": {},
   "outputs": [
    {
     "name": "stdout",
     "output_type": "stream",
     "text": [
      "Using python version: 3.6.9 (default, Oct  8 2020, 12:12:24) \n",
      "[GCC 8.4.0] \n",
      "\n",
      "Initializing Node\n",
      "Initializing Virtual Robot\n",
      "Initializing Mapper\n",
      " | Number of observations per grid cell:  18\n",
      " | Precaching Views...\n",
      " | Precaching Time:  12.50714111328125\n",
      "Initial Pose:  (10, 10, 9)\n",
      "Initializing belief with a Point mass Distribution at:  (10, 10, 9)\n"
     ]
    }
   ],
   "source": [
    "from robot_interface import *\n",
    "\n",
    "# Initialize Robot to communicate with the virtual/real robot and plotter\n",
    "robot = VirtualRobot()\n",
    "\n",
    "# Initialize mapper\n",
    "# Requires a VirtualRobot object as input\n",
    "mapper = init_map(robot)\n",
    "\n",
    "# Initialize your localization object\n",
    "# Requires a robot VirtualRobot object and a Mapper object as inputs\n",
    "loc = BaseLocalization(robot, mapper)\n",
    "\n",
    "# Visualize the map (described using line segments) in the plotter\n",
    "loc.plotter.visualize_map()"
   ]
  },
  {
   "cell_type": "markdown",
   "metadata": {},
   "source": [
    "## 1. Find the grid indices of (0,0,0)"
   ]
  },
  {
   "cell_type": "code",
   "execution_count": 5,
   "metadata": {},
   "outputs": [
    {
     "name": "stdout",
     "output_type": "stream",
     "text": [
      "10 10 9\n"
     ]
    }
   ],
   "source": [
    "x=0\n",
    "y=0 \n",
    "a=0\n",
    "cx, cy, cz = mapper.to_map(x,y,a)\n",
    "print(cx, cy, cz)"
   ]
  },
  {
   "cell_type": "markdown",
   "metadata": {},
   "source": [
    "<hr>\n",
    "\n",
    "## 2. Find the the continuous world cordinates of the grid index from the previous cell\n",
    "\n",
    "Explain the result."
   ]
  },
  {
   "cell_type": "code",
   "execution_count": 6,
   "metadata": {},
   "outputs": [
    {
     "data": {
      "text/plain": [
       "(0.1, 0.1, 10.0)"
      ]
     },
     "execution_count": 6,
     "metadata": {},
     "output_type": "execute_result"
    }
   ],
   "source": [
    "mapper.from_map(cx, cy, cz)"
   ]
  },
  {
   "cell_type": "markdown",
   "metadata": {},
   "source": [
    "<hr>\n",
    "\n",
    "## 3. Normalize angles to the tange [-180,180]\n",
    "Why do we need to do this?"
   ]
  },
  {
   "cell_type": "code",
   "execution_count": 7,
   "metadata": {},
   "outputs": [
    {
     "name": "stdout",
     "output_type": "stream",
     "text": [
      "  30   --->    30\n",
      "-180   --->  -180\n",
      " 180   --->  -180\n",
      " 360   --->     0\n",
      " 530   --->   170\n",
      " -10   --->   -10\n"
     ]
    }
   ],
   "source": [
    "# Angles are in degrees\n",
    "for a in [30,-180,180,360,530,-10]:\n",
    "    na = loc.mapper.normalize_angle(a)\n",
    "    print(\"{:4d}   --->  {:4d}\".format(a, na))"
   ]
  },
  {
   "cell_type": "markdown",
   "metadata": {},
   "source": [
    "<hr>\n",
    "\n",
    "## 4. Get Views/True Measurement Data\n",
    "Get the true measurement at world coodrinates (-1,0,30)"
   ]
  },
  {
   "cell_type": "code",
   "execution_count": 8,
   "metadata": {},
   "outputs": [
    {
     "name": "stdout",
     "output_type": "stream",
     "text": [
      "[1.31769145 2.48027385 2.02193777 1.9        1.29331615 1.71129621\n",
      " 1.27017059 1.11696927 1.11696927 1.27017059 1.71129621 2.23477332\n",
      " 1.1        1.17059555 2.74135531 3.34863156 2.94473717 1.55379238]\n",
      "\n",
      "[1.31769145 2.48027385 2.02193777 1.9        1.29331615 1.71129621\n",
      " 1.27017059 1.11696927 1.11696927 1.27017059 1.71129621 2.23477332\n",
      " 1.1        1.17059555 2.74135531 3.34863156 2.94473717 1.55379238]\n"
     ]
    }
   ],
   "source": [
    "cx, cy, ca = mapper.to_map(-1,0,30)\n",
    "\n",
    "# Using the function get_views\n",
    "print(loc.mapper.get_views(cx, cy, ca))\n",
    "print()\n",
    "\n",
    "# Using the numpy variable obs_views\n",
    "print(loc.mapper.obs_views[cx, cy, ca, :])"
   ]
  },
  {
   "cell_type": "markdown",
   "metadata": {},
   "source": [
    "<hr> \n",
    "\n",
    "## 5. Plotter\n",
    "(For Visualization purposes, not required for the Bayes filter implementation)\n",
    "\n",
    "5.1 Plot the true measurement data from the pose (0,0,0). <br>\n",
    "5.2 Plot the observation data from the pose (0,0,0)"
   ]
  },
  {
   "cell_type": "code",
   "execution_count": 9,
   "metadata": {},
   "outputs": [],
   "source": [
    "# Plots only for the pose (0,0,0)\n",
    "# Add a transformation matrix to make it work for other poses\n",
    "def plot_data(data, cx, cy, ca, plot_type):\n",
    "    a_delta = loc.mapper.RAY_TRACING_ANGLE_INCREMENT\n",
    "\n",
    "    rx, ry, ra = loc.mapper.from_map(cx, cy, ca)\n",
    "    cur_a = ra\n",
    "\n",
    "    for view in data:\n",
    "        x = rx + view*np.cos(np.radians(cur_a))\n",
    "        y = ry + view*np.sin(np.radians(cur_a))\n",
    "        print(\"Hit Point: \", x,y)\n",
    "        loc.plotter.plot_point(x,y,plot_type)\n",
    "\n",
    "        cur_a = cur_a + a_delta\n",
    "        time.sleep(1)"
   ]
  },
  {
   "cell_type": "code",
   "execution_count": 10,
   "metadata": {},
   "outputs": [
    {
     "name": "stdout",
     "output_type": "stream",
     "text": [
      " | Resetting Robot pose\n",
      "Hit Point:  0.7800830152838838 0.2199169847161161\n",
      "Hit Point:  0.6071796769724491 0.3928203230275509\n",
      "Hit Point:  0.46500453458963054 0.5349954654103698\n",
      "Hit Point:  0.31347693673800064 0.6865230632619994\n",
      "Hit Point:  0.10000000000000006 0.9\n",
      "Hit Point:  -0.5915434451057844 2.0\n",
      "Hit Point:  -1.1845603149043786 1.630879370191243\n",
      "Hit Point:  -1.4907810626334186 1.018437874733163\n",
      "Hit Point:  -2.0 0.47028665948777637\n",
      "Hit Point:  -2.0 -0.27028665948777675\n",
      "Hit Point:  -2.0 -1.1124355652982143\n",
      "Hit Point:  -0.8230095942950085 -1.0\n",
      "Hit Point:  -0.30036725769282235 -1.0\n",
      "Hit Point:  0.09999999999999962 -2.0\n",
      "Hit Point:  0.8643374919590255 -2.0\n",
      "Hit Point:  1.8621092254722875 -1.9999999999999996\n",
      "Hit Point:  2.0 -0.9969655114602901\n",
      "Hit Point:  2.0 -0.2350212633460835\n"
     ]
    }
   ],
   "source": [
    "cx, cy, ca = mapper.to_map(0,0,0)\n",
    "\n",
    "# Get the true measurements\n",
    "obs_views = loc.mapper.get_views(cx, cy, ca)\n",
    "\n",
    "# Reset Plotter and robot pose\n",
    "loc.robot.reset()\n",
    "loc.plotter.reset_plot()\n",
    "\n",
    "# Plot in green\n",
    "plot_data(obs_views, cx, cy, ca, GT)"
   ]
  },
  {
   "cell_type": "code",
   "execution_count": 10,
   "metadata": {},
   "outputs": [
    {
     "name": "stdout",
     "output_type": "stream",
     "text": [
      " | Resetting Robot pose\n",
      " | Executing Observation Loop at: 30 deg/s\n",
      "Hit Point:  1.102432045280151 0.27675581590966025\n",
      "Hit Point:  0.8057929966557124 0.5074897766113281\n",
      "Hit Point:  0.5188336271324792 0.5991464798343957\n",
      "Hit Point:  0.3599364472811424 0.8141695193981953\n",
      "Hit Point:  0.10000000000000006 0.9749023079872131\n",
      "Hit Point:  -0.6107841765521115 2.052863475182574\n",
      "Hit Point:  -1.2757065444681783 1.7395032167253177\n",
      "Hit Point:  -1.3701504846944785 0.9487917780876158\n",
      "Hit Point:  -1.9990482314269489 0.47011883700895696\n",
      "Hit Point:  -1.7871976030181684 -0.23276385534044616\n",
      "Hit Point:  -1.7461419009102126 -0.965870523452759\n",
      "Hit Point:  -1.652668789402267 -1.9887493263978957\n",
      "Hit Point:  -0.25729772976972154 -0.8816674445647101\n",
      "Hit Point:  0.0999999999999998 -1.0647621393203734\n",
      "Hit Point:  0.7951637793145302 -1.8099467864894063\n",
      "Hit Point:  1.5666491883436238 -1.647884439283896\n",
      "Hit Point:  2.429045737146017 -1.2446751832962046\n",
      "Hit Point:  2.2069179045497624 -0.2715064727098655\n"
     ]
    }
   ],
   "source": [
    "cx, cy, ca = mapper.to_map(0,0,0)\n",
    "\n",
    "# Perform rotation behaviour to get observation data at current pose\n",
    "loc.get_observation_data()\n",
    "\n",
    "# Plot in blue\n",
    "plot_data(loc.obs_range_data, cx, cy, ca, ODOM)"
   ]
  },
  {
   "cell_type": "markdown",
   "metadata": {},
   "source": [
    "## The true measurements coincide with the map obstacles.\n",
    " \n",
    "## Notice how the observation data is noisy compared to the true measurements data."
   ]
  },
  {
   "cell_type": "markdown",
   "metadata": {},
   "source": [
    "<hr>\n",
    "\n",
    "## 6. Bayes Filter\n",
    "\n",
    "6.1 How many \"for\" loops in the prediction step? <br>\n",
    "6.2 How many \"for\" loops in the update step? <br>\n",
    "6.3 Do you iterate through discrete grid cells or continous coordinates? <br>\n",
    "6.4 The motion and sensor model operate in the discrete grid space or the conitinous world space? <br>\n",
    "6.4 Where do you use the functions \"from_map()\" and \"to_map()\"? <br>\n",
    "6.5 In reference to the code, what is the belief of the robot and what is the most probable state? <br>\n"
   ]
  },
  {
   "cell_type": "markdown",
   "metadata": {},
   "source": [
    "![title](bayes_filter.png)"
   ]
  },
  {
   "cell_type": "markdown",
   "metadata": {},
   "source": [
    "<hr>\n",
    "\n",
    "## 7. Prediction and Update Statistics and Visualizing Grid Beliefs\n",
    "Check out the function **print_prediction_stats()** in class **Mapper**. <br>\n",
    "Re-use the code to write your own function for debugging and/or supporting your writeup."
   ]
  }
 ],
 "metadata": {
  "kernelspec": {
   "display_name": "Python 3",
   "language": "python",
   "name": "python3"
  },
  "language_info": {
   "codemirror_mode": {
    "name": "ipython",
    "version": 3
   },
   "file_extension": ".py",
   "mimetype": "text/x-python",
   "name": "python",
   "nbconvert_exporter": "python",
   "pygments_lexer": "ipython3",
   "version": "3.6.9"
  }
 },
 "nbformat": 4,
 "nbformat_minor": 4
}
